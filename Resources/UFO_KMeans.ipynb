{
  "nbformat": 4,
  "nbformat_minor": 0,
  "metadata": {
    "colab": {
      "provenance": [],
      "collapsed_sections": []
    },
    "kernelspec": {
      "name": "python3",
      "display_name": "Python 3"
    },
    "language_info": {
      "name": "python"
    }
  },
  "cells": [
    {
      "cell_type": "code",

      "metadata": {
        "colab": {
          "base_uri": "https://localhost:8080/"
        },
        "id": "fQfnYXbTV8d-",

      },
      "outputs": [
        {
          "output_type": "stream",
          "name": "stdout",
          "text": [

            "Reading package lists... Done\n"
          ]
        }
      ],
      "source": [
        "import os\n",
        "# Find the latest version of spark 3.0  from http://www.apache.org/dist/spark/ and enter as the spark version\n",
        "# For example:\n",
        "# spark_version = 'spark-3.0.3'\n",
        "spark_version = 'spark-3.2.2'\n",
        "os.environ['SPARK_VERSION']=spark_version\n",
        "\n",
        "# Install Spark and Java\n",
        "!apt-get update\n",
        "!apt-get install openjdk-11-jdk-headless -qq > /dev/null\n",
        "!wget -q http://www.apache.org/dist/spark/$SPARK_VERSION/$SPARK_VERSION-bin-hadoop2.7.tgz\n",
        "!tar xf $SPARK_VERSION-bin-hadoop2.7.tgz\n",
        "!pip install -q findspark\n",
        "\n",
        "# Set Environment Variables\n",
        "import os\n",
        "os.environ[\"JAVA_HOME\"] = \"/usr/lib/jvm/java-11-openjdk-amd64\"\n",
        "os.environ[\"SPARK_HOME\"] = f\"/content/{spark_version}-bin-hadoop2.7\"\n",
        "\n",
        "# Start a SparkSession\n",
        "import findspark\n",
        "findspark.init()"
      ]
    },
    {
      "cell_type": "code",
      "source": [
        "import pandas as pd\n",
        "from sklearn.preprocessing import MinMaxScaler, LabelEncoder\n",
        "from sklearn.cluster import KMeans\n",

      ],
      "metadata": {
        "id": "wjkK3216V9mn"
      },

      "outputs": []
    },
    {
      "cell_type": "code",
      "source": [
        "ufo_data_df = pd.read_csv(\"/content/sample_data/ufo_pop_merge.csv\")\n",
        "ufo_data_df.head()"
      ],
      "metadata": {
        "colab": {
          "base_uri": "https://localhost:8080/",
          "height": 808
        },
        "id": "651KlDhWV9py",

      "outputs": [
        {
          "output_type": "execute_result",
          "data": {
            "text/plain": [
              "   Unnamed: 0                                            summary  \\\n",
              "0           0   Fleet of moving stars.  ((Starlink satellites?))   \n",
              "1           1                   Star-like UFO and strange sound.   \n",
              "2           2  A cross shaped object  illuminated with lights...   \n",
              "3           3                              to dark to see color.   \n",
              "4           4  Strange craft with blinking lights in a solid ...   \n",
              "\n",
              "             date_time     shape   duration  \\\n",
              "0  2020-04-17T20:00:00     light     1 hour   \n",
              "1  2020-05-17T21:00:00     light  3 minutes   \n",
              "2  2004-07-20T19:45:00     cross   1 minute   \n",
              "3  2004-04-20T08:45:00  triangle  8:45-8:47   \n",
              "4  2005-08-19T20:30:00  triangle  3 minutes   \n",
              "\n",
              "                                               stats  \\\n",
              "0  Occurred : 4/17/2020 20:00  (Entered as : 04/1...   \n",
              "1  Occurred : 5/17/2020 21:00  (Entered as : 05/1...   \n",
              "2  Occurred : 7/20/2004 19:45  (Entered as : 07/2...   \n",
              "3  Occurred : 4/20/2004 08:45  (Entered as : 04/2...   \n",
              "4  Occurred : 8/19/2005 20:30  (Entered as : 08/1...   \n",
              "\n",
              "                                                text               posted  \\\n",
              "0  Fleet of moving stars Looked like moving stars...  2020-06-25T00:00:00   \n",
              "1  Star-like UFO and strange sound had just seen ...  2020-06-25T00:00:00   \n",
              "2  A cross shaped object  illuminated with lights...  2004-09-29T00:00:00   \n",
              "3  to dark to see color. I'm 12 years old, i was ...  2004-08-11T00:00:00   \n",
              "4  Strange craft with blinking lights in a solid ...  2005-10-11T00:00:00   \n",
              "\n",
              "   city_latitude  city_longitude                                 key  \\\n",
              "0        33.5178       -112.3667  Litchfield Park2020-04-17T20:00:00   \n",
              "1        33.5178       -112.3667  Litchfield Park2020-05-17T21:00:00   \n",
              "2        33.5178       -112.3667  Litchfield Park2004-07-20T19:45:00   \n",
              "3        33.5178       -112.3667  Litchfield Park2004-04-20T08:45:00   \n",
              "4        33.5178       -112.3667  Litchfield Park2005-08-19T20:30:00   \n",
              "\n",
              "     date_str  time_str  year  month_x  day_x             City State  Year  \\\n",
              "0  2020-04-17  20:00:00  2020        4     17  Litchfield Park    AZ  2020   \n",
              "1  2020-05-17  21:00:00  2020        5     17  Litchfield Park    AZ  2020   \n",
              "2  2004-07-20  19:45:00  2004        7     20  Litchfield Park    AZ  2004   \n",
              "3  2004-04-20  08:45:00  2004        4     20  Litchfield Park    AZ  2004   \n",
              "4  2005-08-19  20:30:00  2005        8     19  Litchfield Park    AZ  2005   \n",
              "\n",
              "   Population  \n",
              "0        6847  \n",
              "1        6847  \n",
              "2        3964  \n",
              "3        3964  \n",
              "4        4361  "
            ],
            "text/html": [
              "\n",

              "    <div class=\"colab-df-container\">\n",
              "      <div>\n",
              "<style scoped>\n",
              "    .dataframe tbody tr th:only-of-type {\n",
              "        vertical-align: middle;\n",
              "    }\n",
              "\n",
              "    .dataframe tbody tr th {\n",
              "        vertical-align: top;\n",
              "    }\n",
              "\n",
              "    .dataframe thead th {\n",
              "        text-align: right;\n",
              "    }\n",
              "</style>\n",
              "<table border=\"1\" class=\"dataframe\">\n",
              "  <thead>\n",
              "    <tr style=\"text-align: right;\">\n",
              "      <th></th>\n",
              "      <th>Unnamed: 0</th>\n",
              "      <th>summary</th>\n",
              "      <th>date_time</th>\n",
              "      <th>shape</th>\n",
              "      <th>duration</th>\n",
              "      <th>stats</th>\n",
              "      <th>text</th>\n",
              "      <th>posted</th>\n",
              "      <th>city_latitude</th>\n",
              "      <th>city_longitude</th>\n",
              "      <th>key</th>\n",
              "      <th>date_str</th>\n",
              "      <th>time_str</th>\n",
              "      <th>year</th>\n",
              "      <th>month_x</th>\n",
              "      <th>day_x</th>\n",
              "      <th>City</th>\n",
              "      <th>State</th>\n",
              "      <th>Year</th>\n",
              "      <th>Population</th>\n",
              "    </tr>\n",
              "  </thead>\n",
              "  <tbody>\n",
              "    <tr>\n",
              "      <th>0</th>\n",
              "      <td>0</td>\n",
              "      <td>Fleet of moving stars.  ((Starlink satellites?))</td>\n",
              "      <td>2020-04-17T20:00:00</td>\n",
              "      <td>light</td>\n",
              "      <td>1 hour</td>\n",
              "      <td>Occurred : 4/17/2020 20:00  (Entered as : 04/1...</td>\n",
              "      <td>Fleet of moving stars Looked like moving stars...</td>\n",
              "      <td>2020-06-25T00:00:00</td>\n",
              "      <td>33.5178</td>\n",
              "      <td>-112.3667</td>\n",
              "      <td>Litchfield Park2020-04-17T20:00:00</td>\n",
              "      <td>2020-04-17</td>\n",
              "      <td>20:00:00</td>\n",
              "      <td>2020</td>\n",
              "      <td>4</td>\n",
              "      <td>17</td>\n",
              "      <td>Litchfield Park</td>\n",
              "      <td>AZ</td>\n",
              "      <td>2020</td>\n",
              "      <td>6847</td>\n",
              "    </tr>\n",
              "    <tr>\n",
              "      <th>1</th>\n",
              "      <td>1</td>\n",
              "      <td>Star-like UFO and strange sound.</td>\n",
              "      <td>2020-05-17T21:00:00</td>\n",
              "      <td>light</td>\n",
              "      <td>3 minutes</td>\n",
              "      <td>Occurred : 5/17/2020 21:00  (Entered as : 05/1...</td>\n",
              "      <td>Star-like UFO and strange sound had just seen ...</td>\n",
              "      <td>2020-06-25T00:00:00</td>\n",
              "      <td>33.5178</td>\n",
              "      <td>-112.3667</td>\n",
              "      <td>Litchfield Park2020-05-17T21:00:00</td>\n",
              "      <td>2020-05-17</td>\n",
              "      <td>21:00:00</td>\n",
              "      <td>2020</td>\n",
              "      <td>5</td>\n",
              "      <td>17</td>\n",
              "      <td>Litchfield Park</td>\n",
              "      <td>AZ</td>\n",
              "      <td>2020</td>\n",
              "      <td>6847</td>\n",
              "    </tr>\n",
              "    <tr>\n",
              "      <th>2</th>\n",
              "      <td>2</td>\n",
              "      <td>A cross shaped object  illuminated with lights...</td>\n",
              "      <td>2004-07-20T19:45:00</td>\n",
              "      <td>cross</td>\n",
              "      <td>1 minute</td>\n",
              "      <td>Occurred : 7/20/2004 19:45  (Entered as : 07/2...</td>\n",
              "      <td>A cross shaped object  illuminated with lights...</td>\n",
              "      <td>2004-09-29T00:00:00</td>\n",
              "      <td>33.5178</td>\n",
              "      <td>-112.3667</td>\n",
              "      <td>Litchfield Park2004-07-20T19:45:00</td>\n",
              "      <td>2004-07-20</td>\n",
              "      <td>19:45:00</td>\n",
              "      <td>2004</td>\n",
              "      <td>7</td>\n",
              "      <td>20</td>\n",
              "      <td>Litchfield Park</td>\n",
              "      <td>AZ</td>\n",
              "      <td>2004</td>\n",
              "      <td>3964</td>\n",
              "    </tr>\n",
              "    <tr>\n",
              "      <th>3</th>\n",
              "      <td>3</td>\n",
              "      <td>to dark to see color.</td>\n",
              "      <td>2004-04-20T08:45:00</td>\n",
              "      <td>triangle</td>\n",
              "      <td>8:45-8:47</td>\n",
              "      <td>Occurred : 4/20/2004 08:45  (Entered as : 04/2...</td>\n",
              "      <td>to dark to see color. I'm 12 years old, i was ...</td>\n",
              "      <td>2004-08-11T00:00:00</td>\n",
              "      <td>33.5178</td>\n",
              "      <td>-112.3667</td>\n",
              "      <td>Litchfield Park2004-04-20T08:45:00</td>\n",
              "      <td>2004-04-20</td>\n",
              "      <td>08:45:00</td>\n",
              "      <td>2004</td>\n",
              "      <td>4</td>\n",
              "      <td>20</td>\n",
              "      <td>Litchfield Park</td>\n",
              "      <td>AZ</td>\n",
              "      <td>2004</td>\n",
              "      <td>3964</td>\n",
              "    </tr>\n",
              "    <tr>\n",
              "      <th>4</th>\n",
              "      <td>4</td>\n",
              "      <td>Strange craft with blinking lights in a solid ...</td>\n",
              "      <td>2005-08-19T20:30:00</td>\n",
              "      <td>triangle</td>\n",
              "      <td>3 minutes</td>\n",
              "      <td>Occurred : 8/19/2005 20:30  (Entered as : 08/1...</td>\n",
              "      <td>Strange craft with blinking lights in a solid ...</td>\n",
              "      <td>2005-10-11T00:00:00</td>\n",
              "      <td>33.5178</td>\n",
              "      <td>-112.3667</td>\n",
              "      <td>Litchfield Park2005-08-19T20:30:00</td>\n",
              "      <td>2005-08-19</td>\n",
              "      <td>20:30:00</td>\n",
              "      <td>2005</td>\n",
              "      <td>8</td>\n",
              "      <td>19</td>\n",
              "      <td>Litchfield Park</td>\n",
              "      <td>AZ</td>\n",
              "      <td>2005</td>\n",
              "      <td>4361</td>\n",
              "    </tr>\n",
              "  </tbody>\n",
              "</table>\n",
              "</div>\n",

              "              title=\"Convert this dataframe to an interactive table.\"\n",
              "              style=\"display:none;\">\n",
              "        \n",
              "  <svg xmlns=\"http://www.w3.org/2000/svg\" height=\"24px\"viewBox=\"0 0 24 24\"\n",
              "       width=\"24px\">\n",
              "    <path d=\"M0 0h24v24H0V0z\" fill=\"none\"/>\n",
              "    <path d=\"M18.56 5.44l.94 2.06.94-2.06 2.06-.94-2.06-.94-.94-2.06-.94 2.06-2.06.94zm-11 1L8.5 8.5l.94-2.06 2.06-.94-2.06-.94L8.5 2.5l-.94 2.06-2.06.94zm10 10l.94 2.06.94-2.06 2.06-.94-2.06-.94-.94-2.06-.94 2.06-2.06.94z\"/><path d=\"M17.41 7.96l-1.37-1.37c-.4-.4-.92-.59-1.43-.59-.52 0-1.04.2-1.43.59L10.3 9.45l-7.72 7.72c-.78.78-.78 2.05 0 2.83L4 21.41c.39.39.9.59 1.41.59.51 0 1.02-.2 1.41-.59l7.78-7.78 2.81-2.81c.8-.78.8-2.07 0-2.86zM5.41 20L4 18.59l7.72-7.72 1.47 1.35L5.41 20z\"/>\n",
              "  </svg>\n",
              "      </button>\n",
              "      \n",
              "  <style>\n",
              "    .colab-df-container {\n",
              "      display:flex;\n",
              "      flex-wrap:wrap;\n",
              "      gap: 12px;\n",
              "    }\n",
              "\n",
              "    .colab-df-convert {\n",
              "      background-color: #E8F0FE;\n",
              "      border: none;\n",
              "      border-radius: 50%;\n",
              "      cursor: pointer;\n",
              "      display: none;\n",
              "      fill: #1967D2;\n",
              "      height: 32px;\n",
              "      padding: 0 0 0 0;\n",
              "      width: 32px;\n",
              "    }\n",
              "\n",
              "    .colab-df-convert:hover {\n",
              "      background-color: #E2EBFA;\n",
              "      box-shadow: 0px 1px 2px rgba(60, 64, 67, 0.3), 0px 1px 3px 1px rgba(60, 64, 67, 0.15);\n",
              "      fill: #174EA6;\n",
              "    }\n",
              "\n",
              "    [theme=dark] .colab-df-convert {\n",
              "      background-color: #3B4455;\n",
              "      fill: #D2E3FC;\n",
              "    }\n",
              "\n",
              "    [theme=dark] .colab-df-convert:hover {\n",
              "      background-color: #434B5C;\n",
              "      box-shadow: 0px 1px 3px 1px rgba(0, 0, 0, 0.15);\n",
              "      filter: drop-shadow(0px 1px 2px rgba(0, 0, 0, 0.3));\n",
              "      fill: #FFFFFF;\n",
              "    }\n",
              "  </style>\n",
              "\n",
              "      <script>\n",
              "        const buttonEl =\n",

              "        buttonEl.style.display =\n",
              "          google.colab.kernel.accessAllowed ? 'block' : 'none';\n",
              "\n",
              "        async function convertToInteractive(key) {\n",

              "          const dataTable =\n",
              "            await google.colab.kernel.invokeFunction('convertToInteractive',\n",
              "                                                     [key], {});\n",
              "          if (!dataTable) return;\n",
              "\n",
              "          const docLinkHtml = 'Like what you see? Visit the ' +\n",
              "            '<a target=\"_blank\" href=https://colab.research.google.com/notebooks/data_table.ipynb>data table notebook</a>'\n",
              "            + ' to learn more about interactive tables.';\n",
              "          element.innerHTML = '';\n",
              "          dataTable['output_type'] = 'display_data';\n",
              "          await google.colab.output.renderOutput(dataTable, element);\n",
              "          const docLink = document.createElement('div');\n",
              "          docLink.innerHTML = docLinkHtml;\n",
              "          element.appendChild(docLink);\n",
              "        }\n",
              "      </script>\n",
              "    </div>\n",
              "  </div>\n",
              "  "
            ]
          },
          "metadata": {},

        }
      ]
    },
    {
      "cell_type": "code",
      "source": [

      "outputs": [
        {
          "output_type": "execute_result",
          "data": {
            "text/plain": [

        }
      ]
    },
    {
      "cell_type": "code",
      "source": [

    },
    {
      "cell_type": "code",
      "source": [

    },
    {
      "cell_type": "code",
      "source": [

      "outputs": [
        {
          "output_type": "execute_result",
          "data": {
            "text/plain": [

              "    </tr>\n",
              "  </tbody>\n",
              "</table>\n",
              "</div>\n",

              "              title=\"Convert this dataframe to an interactive table.\"\n",
              "              style=\"display:none;\">\n",
              "        \n",
              "  <svg xmlns=\"http://www.w3.org/2000/svg\" height=\"24px\"viewBox=\"0 0 24 24\"\n",
              "       width=\"24px\">\n",
              "    <path d=\"M0 0h24v24H0V0z\" fill=\"none\"/>\n",
              "    <path d=\"M18.56 5.44l.94 2.06.94-2.06 2.06-.94-2.06-.94-.94-2.06-.94 2.06-2.06.94zm-11 1L8.5 8.5l.94-2.06 2.06-.94-2.06-.94L8.5 2.5l-.94 2.06-2.06.94zm10 10l.94 2.06.94-2.06 2.06-.94-2.06-.94-.94-2.06-.94 2.06-2.06.94z\"/><path d=\"M17.41 7.96l-1.37-1.37c-.4-.4-.92-.59-1.43-.59-.52 0-1.04.2-1.43.59L10.3 9.45l-7.72 7.72c-.78.78-.78 2.05 0 2.83L4 21.41c.39.39.9.59 1.41.59.51 0 1.02-.2 1.41-.59l7.78-7.78 2.81-2.81c.8-.78.8-2.07 0-2.86zM5.41 20L4 18.59l7.72-7.72 1.47 1.35L5.41 20z\"/>\n",
              "  </svg>\n",
              "      </button>\n",
              "      \n",
              "  <style>\n",
              "    .colab-df-container {\n",
              "      display:flex;\n",
              "      flex-wrap:wrap;\n",
              "      gap: 12px;\n",
              "    }\n",
              "\n",
              "    .colab-df-convert {\n",
              "      background-color: #E8F0FE;\n",
              "      border: none;\n",
              "      border-radius: 50%;\n",
              "      cursor: pointer;\n",
              "      display: none;\n",
              "      fill: #1967D2;\n",
              "      height: 32px;\n",
              "      padding: 0 0 0 0;\n",
              "      width: 32px;\n",
              "    }\n",
              "\n",
              "    .colab-df-convert:hover {\n",
              "      background-color: #E2EBFA;\n",
              "      box-shadow: 0px 1px 2px rgba(60, 64, 67, 0.3), 0px 1px 3px 1px rgba(60, 64, 67, 0.15);\n",
              "      fill: #174EA6;\n",
              "    }\n",
              "\n",
              "    [theme=dark] .colab-df-convert {\n",
              "      background-color: #3B4455;\n",
              "      fill: #D2E3FC;\n",
              "    }\n",
              "\n",
              "    [theme=dark] .colab-df-convert:hover {\n",
              "      background-color: #434B5C;\n",
              "      box-shadow: 0px 1px 3px 1px rgba(0, 0, 0, 0.15);\n",
              "      filter: drop-shadow(0px 1px 2px rgba(0, 0, 0, 0.3));\n",
              "      fill: #FFFFFF;\n",
              "    }\n",
              "  </style>\n",
              "\n",
              "      <script>\n",
              "        const buttonEl =\n",

              "        buttonEl.style.display =\n",
              "          google.colab.kernel.accessAllowed ? 'block' : 'none';\n",
              "\n",
              "        async function convertToInteractive(key) {\n",

              "          const dataTable =\n",
              "            await google.colab.kernel.invokeFunction('convertToInteractive',\n",
              "                                                     [key], {});\n",
              "          if (!dataTable) return;\n",
              "\n",
              "          const docLinkHtml = 'Like what you see? Visit the ' +\n",
              "            '<a target=\"_blank\" href=https://colab.research.google.com/notebooks/data_table.ipynb>data table notebook</a>'\n",
              "            + ' to learn more about interactive tables.';\n",
              "          element.innerHTML = '';\n",
              "          dataTable['output_type'] = 'display_data';\n",
              "          await google.colab.output.renderOutput(dataTable, element);\n",
              "          const docLink = document.createElement('div');\n",
              "          docLink.innerHTML = docLinkHtml;\n",
              "          element.appendChild(docLink);\n",
              "        }\n",
              "      </script>\n",
              "    </div>\n",
              "  </div>\n",
              "  "
            ]
          },
          "metadata": {},

        }
      ]
    },
    {
      "cell_type": "code",
      "source": [
        "# Scale the dataset using MinMaxScaler()\n",
        "X_scaled = MinMaxScaler().fit_transform(X)\n",
        "X_scaled"
      ],
      "metadata": {

      "outputs": [
        {
          "output_type": "execute_result",
          "data": {
            "text/plain": [

        }
      ]
    },
    {
      "cell_type": "code",
      "source": [
        "sse = {}\n",

        "for k in K:\n",
        "    kmeanmodel = KMeans(n_clusters=k).fit(X_scaled)\n",
        "    sse[k]= kmeanmodel.inertia_\n",
        "    \n",
        "# Plot\n",
        "plt.plot(list(sse.keys()), list(sse.values()))\n",
        "plt.xlabel('k')\n",
        "plt.ylabel('SSE')\n",
        "plt.title('Elbow Method')\n",
        "plt.show()"
      ],
      "metadata": {

        "colab": {
          "base_uri": "https://localhost:8080/",
          "height": 295
        },

      "outputs": [
        {
          "output_type": "display_data",
          "data": {
            "text/plain": [
              "<Figure size 432x288 with 1 Axes>"
            ],

          },
          "metadata": {
            "needs_background": "light"
          }
        }
      ]
    },
    {
      "cell_type": "code",
      "source": [
        "# Create a KMeans model with 3 clusters\n",
        "model = KMeans(n_clusters=3, random_state=42).fit(X_scaled)"
      ],
      "metadata": {

      "outputs": []
    },
    {
      "cell_type": "code",
      "source": [

      "outputs": []
    },
    {
      "cell_type": "code",
      "source": [

        "ufo_data_df_y = pd.DataFrame(y_pred, columns=['Cluster'])\n",
        "combined = ufo_data_df.join(ufo_data_df_y, how='inner')\n",
        "combined.head()"
      ],
      "metadata": {

      "outputs": [
        {
          "output_type": "execute_result",
          "data": {
            "text/plain": [

              "    <div class=\"colab-df-container\">\n",
              "      <div>\n",
              "<style scoped>\n",
              "    .dataframe tbody tr th:only-of-type {\n",
              "        vertical-align: middle;\n",
              "    }\n",
              "\n",
              "    .dataframe tbody tr th {\n",
              "        vertical-align: top;\n",
              "    }\n",
              "\n",
              "    .dataframe thead th {\n",
              "        text-align: right;\n",
              "    }\n",
              "</style>\n",
              "<table border=\"1\" class=\"dataframe\">\n",
              "  <thead>\n",
              "    <tr style=\"text-align: right;\">\n",
              "      <th></th>\n",
              "      <th>Unnamed: 0</th>\n",

              "      <th>date_str</th>\n",
              "      <th>time_str</th>\n",
              "      <th>year</th>\n",
              "      <th>month_x</th>\n",
              "      <th>day_x</th>\n",
              "      <th>City</th>\n",
              "      <th>State</th>\n",
              "      <th>Year</th>\n",
              "      <th>Population</th>\n",

              "      <th>Cluster</th>\n",
              "    </tr>\n",
              "  </thead>\n",
              "  <tbody>\n",
              "    <tr>\n",
              "      <th>0</th>\n",
              "      <td>0</td>\n",

              "    </tr>\n",
              "    <tr>\n",
              "      <th>1</th>\n",
              "      <td>1</td>\n",

              "    </tr>\n",
              "    <tr>\n",
              "      <th>2</th>\n",
              "      <td>2</td>\n",

              "    </tr>\n",
              "    <tr>\n",
              "      <th>3</th>\n",
              "      <td>3</td>\n",

              "    </tr>\n",
              "    <tr>\n",
              "      <th>4</th>\n",
              "      <td>4</td>\n",

              "              title=\"Convert this dataframe to an interactive table.\"\n",
              "              style=\"display:none;\">\n",
              "        \n",
              "  <svg xmlns=\"http://www.w3.org/2000/svg\" height=\"24px\"viewBox=\"0 0 24 24\"\n",
              "       width=\"24px\">\n",
              "    <path d=\"M0 0h24v24H0V0z\" fill=\"none\"/>\n",
              "    <path d=\"M18.56 5.44l.94 2.06.94-2.06 2.06-.94-2.06-.94-.94-2.06-.94 2.06-2.06.94zm-11 1L8.5 8.5l.94-2.06 2.06-.94-2.06-.94L8.5 2.5l-.94 2.06-2.06.94zm10 10l.94 2.06.94-2.06 2.06-.94-2.06-.94-.94-2.06-.94 2.06-2.06.94z\"/><path d=\"M17.41 7.96l-1.37-1.37c-.4-.4-.92-.59-1.43-.59-.52 0-1.04.2-1.43.59L10.3 9.45l-7.72 7.72c-.78.78-.78 2.05 0 2.83L4 21.41c.39.39.9.59 1.41.59.51 0 1.02-.2 1.41-.59l7.78-7.78 2.81-2.81c.8-.78.8-2.07 0-2.86zM5.41 20L4 18.59l7.72-7.72 1.47 1.35L5.41 20z\"/>\n",
              "  </svg>\n",
              "      </button>\n",
              "      \n",
              "  <style>\n",
              "    .colab-df-container {\n",
              "      display:flex;\n",
              "      flex-wrap:wrap;\n",
              "      gap: 12px;\n",
              "    }\n",
              "\n",
              "    .colab-df-convert {\n",
              "      background-color: #E8F0FE;\n",
              "      border: none;\n",
              "      border-radius: 50%;\n",
              "      cursor: pointer;\n",
              "      display: none;\n",
              "      fill: #1967D2;\n",
              "      height: 32px;\n",
              "      padding: 0 0 0 0;\n",
              "      width: 32px;\n",
              "    }\n",
              "\n",
              "    .colab-df-convert:hover {\n",
              "      background-color: #E2EBFA;\n",
              "      box-shadow: 0px 1px 2px rgba(60, 64, 67, 0.3), 0px 1px 3px 1px rgba(60, 64, 67, 0.15);\n",
              "      fill: #174EA6;\n",
              "    }\n",
              "\n",
              "    [theme=dark] .colab-df-convert {\n",
              "      background-color: #3B4455;\n",
              "      fill: #D2E3FC;\n",
              "    }\n",
              "\n",
              "    [theme=dark] .colab-df-convert:hover {\n",
              "      background-color: #434B5C;\n",
              "      box-shadow: 0px 1px 3px 1px rgba(0, 0, 0, 0.15);\n",
              "      filter: drop-shadow(0px 1px 2px rgba(0, 0, 0, 0.3));\n",
              "      fill: #FFFFFF;\n",
              "    }\n",
              "  </style>\n",
              "\n",
              "      <script>\n",
              "        const buttonEl =\n",

              "        buttonEl.style.display =\n",
              "          google.colab.kernel.accessAllowed ? 'block' : 'none';\n",
              "\n",
              "        async function convertToInteractive(key) {\n",

              "          const dataTable =\n",
              "            await google.colab.kernel.invokeFunction('convertToInteractive',\n",
              "                                                     [key], {});\n",
              "          if (!dataTable) return;\n",
              "\n",
              "          const docLinkHtml = 'Like what you see? Visit the ' +\n",
              "            '<a target=\"_blank\" href=https://colab.research.google.com/notebooks/data_table.ipynb>data table notebook</a>'\n",
              "            + ' to learn more about interactive tables.';\n",
              "          element.innerHTML = '';\n",
              "          dataTable['output_type'] = 'display_data';\n",
              "          await google.colab.output.renderOutput(dataTable, element);\n",
              "          const docLink = document.createElement('div');\n",
              "          docLink.innerHTML = docLinkHtml;\n",
              "          element.appendChild(docLink);\n",
              "        }\n",
              "      </script>\n",
              "    </div>\n",
              "  </div>\n",
              "  "
            ]
          },
          "metadata": {},

        }
      ]
    },
    {
      "cell_type": "code",

    },
    {
      "cell_type": "code",
      "source": [

    },
    {
      "cell_type": "code",
      "source": [],
      "metadata": {
        "id": "aE4FGcdDnILb"
      },
      "execution_count": null,
      "outputs": []
    },
    {
      "cell_type": "code",
      "source": [],
      "metadata": {
        "id": "UenBh6LInISa"
      },
      "execution_count": null,
      "outputs": []
    },
    {
      "cell_type": "code",
      "source": [],
      "metadata": {
        "id": "1IJLy3XOV90V"
      },
      "execution_count": null,
      "outputs": []
    }
  ]
}
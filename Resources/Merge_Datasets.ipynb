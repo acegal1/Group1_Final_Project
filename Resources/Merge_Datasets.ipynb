{
 "cells": [
  {
   "cell_type": "code",
   "execution_count": null,
   "id": "c41d8ec0",
   "metadata": {},
   "outputs": [],
   "source": [
    "# REQUIRED LIBRARIES\n",
    "library(dplyr);\n",
    "library(ggplot2);\n",
    "library(mclust);\n",
    "library(lubridate);\n",
    "library(mapdata);\n",
    "library(maps);"
   ]
  },
  {
   "cell_type": "code",
   "execution_count": null,
   "id": "6aa8e046",
   "metadata": {},
   "outputs": [],
   "source": [
    "# Import our dependencies\n",
    "import pandas as pd\n",
    "import numpy as np\n",
    "from pathlib import Path\n",
    "import os\n",
    "import warnings\n",
    "warnings.filterwarnings(\"ignore\")"
   ]
  },
  {
   "cell_type": "code",
   "execution_count": null,
   "id": "48bae2e7",
   "metadata": {},
   "outputs": [],
   "source": [
    "# READ DATA UFO Sightings\n",
    "ufo_data_az = pd.read_csv(\"./Resources/ufo_data_cleaned4.csv\")\n"
   ]
  },
  {
   "cell_type": "code",
   "execution_count": null,
   "id": "2765ff1a",
   "metadata": {},
   "outputs": [],
   "source": [
    "# READ DATA Arizona Cities\n",
    "ufo_pop_az = pd.read_csv(\"./Resources/Clean_City_PopulationGrowth.csv\")"
   ]
  }
 ],
 "metadata": {
  "kernelspec": {
   "display_name": "mlenv",
   "language": "python",
   "name": "mlenv"
  },
  "language_info": {
   "codemirror_mode": {
    "name": "ipython",
    "version": 3
   },
   "file_extension": ".py",
   "mimetype": "text/x-python",
   "name": "python",
   "nbconvert_exporter": "python",
   "pygments_lexer": "ipython3",
   "version": "3.7.13"
  }
 },
 "nbformat": 4,
 "nbformat_minor": 5
}

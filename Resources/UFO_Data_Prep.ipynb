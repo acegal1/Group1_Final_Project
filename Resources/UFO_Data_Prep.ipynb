{
  "nbformat": 4,
  "nbformat_minor": 0,
  "metadata": {
    "colab": {
      "provenance": [],
      "collapsed_sections": []
    },
    "kernelspec": {
      "name": "python3",
      "display_name": "Python 3"
    },
    "language_info": {
      "name": "python"
    }
  },
  "cells": [
    {
      "cell_type": "code",
      "source": [
        "import os\n",
        "# Find the latest version of spark 3.0  from http://www.apache.org/dist/spark/ and enter as the spark version\n",
        "# For example:\n",
        "# spark_version = 'spark-3.0.3'\n",
        "spark_version = 'spark-3.2.2'\n",
        "os.environ['SPARK_VERSION']=spark_version\n",
        "\n",
        "# Install Spark and Java\n",
        "!apt-get update\n",
        "!apt-get install openjdk-11-jdk-headless -qq > /dev/null\n",
        "!wget -q http://www.apache.org/dist/spark/$SPARK_VERSION/$SPARK_VERSION-bin-hadoop2.7.tgz\n",
        "!tar xf $SPARK_VERSION-bin-hadoop2.7.tgz\n",
        "!pip install -q findspark\n",
        "\n",
        "# Set Environment Variables\n",
        "import os\n",
        "os.environ[\"JAVA_HOME\"] = \"/usr/lib/jvm/java-11-openjdk-amd64\"\n",
        "os.environ[\"SPARK_HOME\"] = f\"/content/{spark_version}-bin-hadoop2.7\"\n",
        "\n",
        "# Start a SparkSession\n",
        "import findspark\n",
        "findspark.init()"
      ],
      "metadata": {
        "id": "RAJzYMFA1lPG"
      },
      "execution_count": null,
      "outputs": []
    },
    {
      "cell_type": "code",
      "execution_count": null,
      "metadata": {
        "id": "Sq9OhhSOSKuX"
      },
      "outputs": [],
      "source": [
        "import pandas as pd\n",
        "from pathlib import Path\n",
        "from sklearn.preprocessing import StandardScaler\n",
        "from sklearn.decomposition import PCA\n",
        "from sklearn.cluster import KMeans\n",
        "import matplotlib.pyplot as plt"
      ]
    },
    {
      "cell_type": "code",
      "source": [
        "# Data Preprocessing\n",
        "from sklearn.datasets import load_ufo\n",
        "iris = load_ufo()"
      ],
      "metadata": {
        "id": "bW0f8oUy1_Yh"
      },
      "execution_count": null,
      "outputs": []
    },
    {
      "cell_type": "code",
      "source": [
        "ufo.feature_names"
      ],
      "metadata": {
        "id": "HSwGEXQP2M6v"
      },
      "execution_count": null,
      "outputs": []
    },
    {
      "cell_type": "code",
      "source": [
        " ufo.data"
      ],
      "metadata": {
        "id": "zvFDtszd2NCe"
      },
      "execution_count": null,
      "outputs": []
    },
    {
      "cell_type": "code",
      "source": [
        "ufo.target_names"
      ],
      "metadata": {
        "id": "AnCOo-sr2SXH"
      },
      "execution_count": null,
      "outputs": []
    },
    {
      "cell_type": "code",
      "source": [
        "ufo.target"
      ],
      "metadata": {
        "id": "OD-8z5Qf2Sc5"
      },
      "execution_count": null,
      "outputs": []
    },
    {
      "cell_type": "code",
      "source": [
        "# Loading the preprocessed iris dataset\n",
        "file_path = Path(\"../Resources/ufo_pop_merge.csv\")\n",
        "df_ufo_data = pd.read_csv(file_path)\n",
        "df_ufo_data.head(5)"
      ],
      "metadata": {
        "id": "axYybzA_S23c"
      },
      "execution_count": null,
      "outputs": []
    },
    {
      "cell_type": "code",
      "source": [
        " # Identify all the possible values in the class column\n",
        "df['city'].unique()"
      ],
      "metadata": {
        "id": "zPb03qKV2gB1"
      },
      "execution_count": null,
      "outputs": []
    },
    {
      "cell_type": "code",
      "source": [
        "# Encode string values into numeric values\n",
        "city_dict = {'UFO-Litchfield': 0, 'UFO-Tucson': 1, 'UFO-Phoenix':2, 'UFO-Gilbert':3, 'UFO-Tempe':4, 'UFO-Glendale':5, 'UFO-Mesa':6, 'UFO-Bullhead City':7, 'UFO-Peoria':8, 'UFO-Chandler':9, 'UFO-Cottowood':10, 'UFO-Prescott':11, 'UFO-Payson':12, 'UFO-Page':13, 'UFO-Yuma':14, 'UFO-Sun City':15, 'UFO-Salome':16, 'UFO-Sierra Vista': 17, 'UFO-Prescott Valley':18, 'UFO-Sedona':19, 'UFO-Anthem':20, 'UFO-Lake Havasu City':21, 'UFO-Florence':22, 'UFO-Apache Junction':23, 'UFO-Queen Creek':24, 'UFO-Tonopah':25, 'UFO-Show Low':26, 'UFO-Scottsdale':27, 'UFO-Marana':28, 'UFO-Goodyear':29, 'UFO-Kingman':30, 'UFO-Buckeye':31, 'UFO-Arizona City':32, 'UFO-Cave Creek':33, 'UFO-Fountain Hills':34, 'UFO-Topock':35, 'UFO-Green Valley':36, 'UFO-Eloy':37, 'UFO-Amado':38, 'UFO-Nogales':39, 'UFO-Chino Valley':40, 'UFO-Surprise':41, 'UFO-Holbrook':42, 'UFO-Camp Verde':43, 'UFO-Paradise Valley':44, 'UFO-Maricopa':45, 'UFO-Quartzite':46, 'UFO-Avondale':47, 'UFO-Bagdad':48, 'UFO-Morenci':49, 'Flagstaff':50; 'UFO-Safford':51, 'UFO-Douglas':52, 'UFO-Coolidge':53, 'UFO-Carefree':54, 'UFO-Casa Grande':55, 'UFO-Gila Bend':56, 'UFO-Tombstone':57, 'UFO-Huachuca City':58, 'UFO-Clarkdale':59, 'UFO-Pima':60, 'UFO-Patagonia':61, 'UFO-Williams':62, 'UFO-Sahuarita':63, 'UFO-Globe':64, 'UFO-Benson':65, 'UFO-Tolleson':66, 'UFO-Kearny':66, 'UFO-Wickenburg':67, 'UFO-Snowflake':68, 'UFO-Winslow':69, 'UFO-Parker':70, 'UFO-Willcox':71, 'UFO-San Luis':72, 'UFO-Springerville':73, 'UFO-Whiteriver':74, 'UFO-Wellton':75, 'UFO-Eagar':76, 'UFO-Duncan':77, 'UFO-El Mirage':78, 'UFO-Thatcher':79, 'UFO-Pine':80, 'UFO-Concho':81, 'UFO-Somerton':82, 'UFO-Clifton':83, 'UFO-Many Farms':84}\n",
        "ufo_df2 = df.replace({'city': city_dict})"
      ],
      "metadata": {
        "id": "Vs73A7JM2jtT"
      },
      "execution_count": null,
      "outputs": []
    },
    {
      "cell_type": "code",
      "source": [
        "# Class names have been replaced with numbers\n",
        "ufo_df2['city'].unique()"
      ],
      "metadata": {
        "id": "6q90ZBc12njU"
      },
      "execution_count": null,
      "outputs": []
    },
    {
      "cell_type": "code",
      "source": [
        "grouped_df = df2.groupby('city').count()\n",
        "grouped_df.head()"
      ],
      "metadata": {
        "id": "McpridgU24KT"
      },
      "execution_count": null,
      "outputs": []
    },
    {
      "cell_type": "code",
      "source": [
        "ufo_df2.head()"
      ],
      "metadata": {
        "id": "_j4Fws0K270U"
      },
      "execution_count": null,
      "outputs": []
    },
    {
      "cell_type": "code",
      "source": [
        "# Alternate way to encode string values\n",
        " # Another way to accomplish the same task\n",
        "ufo_df3 = df\n",
        "ufo_df3['city'] = df3['city'].map(city_dict)\n",
        "ufo_df3['city'].unique()"
      ],
      "metadata": {
        "id": "2WkhEkUt279k"
      },
      "execution_count": null,
      "outputs": []
    },
    {
      "cell_type": "code",
      "source": [
        "ufo_df3.dtypes\n",
        "ufo_df3.head(10)"
      ],
      "metadata": {
        "id": "7Bs6PfNx3Je1"
      },
      "execution_count": null,
      "outputs": []
    },
    {
      "cell_type": "code",
      "source": [
        "# Data Preperation\n",
        " # Save the cleaned DataFrame as a new CSV file for further use\n",
        "file_path = Path(\"../Resources/new_ufo_data.csv\")\n",
        "new_ufo_df.to_csv(file_path, index=False)"
      ],
      "metadata": {
        "id": "-27VBCsd3tW-"
      },
      "execution_count": null,
      "outputs": []
    },
    {
      "cell_type": "code",
      "source": [],
      "metadata": {
        "id": "czNgDIGAT8yM"
      },
      "execution_count": null,
      "outputs": []
    },
    {
      "cell_type": "code",
      "source": [],
      "metadata": {
        "id": "fD1cKkHTS3CM"
      },
      "execution_count": null,
      "outputs": []
    },
    {
      "cell_type": "code",
      "source": [],
      "metadata": {
        "id": "dJrVdBO0S3E0"
      },
      "execution_count": null,
      "outputs": []
    },
    {
      "cell_type": "code",
      "source": [],
      "metadata": {
        "id": "Nk4RtY-xS3Hy"
      },
      "execution_count": null,
      "outputs": []
    }
  ]
}